{
  "nbformat": 4,
  "nbformat_minor": 0,
  "metadata": {
    "colab": {
      "name": "data_visualization.ipynb",
      "provenance": [],
      "toc_visible": true,
      "mount_file_id": "1SyrYjEC5Z7LIiWvXzl9xqRjoy_w7q0zV",
      "authorship_tag": "ABX9TyPwYEEChC4vX6tyVJd4VxzA",
      "include_colab_link": true
    },
    "kernelspec": {
      "name": "python3",
      "display_name": "Python 3"
    }
  },
  "cells": [
    {
      "cell_type": "markdown",
      "metadata": {
        "id": "view-in-github",
        "colab_type": "text"
      },
      "source": [
        "<a href=\"https://colab.research.google.com/github/kghilothia06/recommender_system/blob/master/data_visualization.ipynb\" target=\"_parent\"><img src=\"https://colab.research.google.com/assets/colab-badge.svg\" alt=\"Open In Colab\"/></a>"
      ]
    },
    {
      "cell_type": "code",
      "metadata": {
        "id": "dyCZhunpS-HG",
        "colab_type": "code",
        "colab": {}
      },
      "source": [
        "import numpy as np\n",
        "import pandas as pd\n",
        "import matplotlib.pyplot as plt\n",
        "import seaborn as sns\n"
      ],
      "execution_count": 0,
      "outputs": []
    },
    {
      "cell_type": "code",
      "metadata": {
        "id": "c06How72TEDO",
        "colab_type": "code",
        "colab": {}
      },
      "source": [
        "movie_title_id = pd.read_csv('/content/drive/My Drive/recommender_system_dataset/Project 8/Movie_Id_Titles')"
      ],
      "execution_count": 0,
      "outputs": []
    },
    {
      "cell_type": "code",
      "metadata": {
        "id": "CIE9-X5HU3cn",
        "colab_type": "code",
        "outputId": "7f25db21-3e93-40e5-ad9f-43d9334ae274",
        "colab": {
          "base_uri": "https://localhost:8080/",
          "height": 34
        }
      },
      "source": [
        "movie_title_id.shape"
      ],
      "execution_count": 3,
      "outputs": [
        {
          "output_type": "execute_result",
          "data": {
            "text/plain": [
              "(1682, 2)"
            ]
          },
          "metadata": {
            "tags": []
          },
          "execution_count": 3
        }
      ]
    },
    {
      "cell_type": "code",
      "metadata": {
        "id": "MCSEbxwkVOL_",
        "colab_type": "code",
        "outputId": "65dc23f6-141d-43c9-8cb3-14ae47aaf05f",
        "colab": {
          "base_uri": "https://localhost:8080/",
          "height": 204
        }
      },
      "source": [
        "movie_title_id.head()"
      ],
      "execution_count": 4,
      "outputs": [
        {
          "output_type": "execute_result",
          "data": {
            "text/html": [
              "<div>\n",
              "<style scoped>\n",
              "    .dataframe tbody tr th:only-of-type {\n",
              "        vertical-align: middle;\n",
              "    }\n",
              "\n",
              "    .dataframe tbody tr th {\n",
              "        vertical-align: top;\n",
              "    }\n",
              "\n",
              "    .dataframe thead th {\n",
              "        text-align: right;\n",
              "    }\n",
              "</style>\n",
              "<table border=\"1\" class=\"dataframe\">\n",
              "  <thead>\n",
              "    <tr style=\"text-align: right;\">\n",
              "      <th></th>\n",
              "      <th>item_id</th>\n",
              "      <th>title</th>\n",
              "    </tr>\n",
              "  </thead>\n",
              "  <tbody>\n",
              "    <tr>\n",
              "      <th>0</th>\n",
              "      <td>1</td>\n",
              "      <td>Toy Story (1995)</td>\n",
              "    </tr>\n",
              "    <tr>\n",
              "      <th>1</th>\n",
              "      <td>2</td>\n",
              "      <td>GoldenEye (1995)</td>\n",
              "    </tr>\n",
              "    <tr>\n",
              "      <th>2</th>\n",
              "      <td>3</td>\n",
              "      <td>Four Rooms (1995)</td>\n",
              "    </tr>\n",
              "    <tr>\n",
              "      <th>3</th>\n",
              "      <td>4</td>\n",
              "      <td>Get Shorty (1995)</td>\n",
              "    </tr>\n",
              "    <tr>\n",
              "      <th>4</th>\n",
              "      <td>5</td>\n",
              "      <td>Copycat (1995)</td>\n",
              "    </tr>\n",
              "  </tbody>\n",
              "</table>\n",
              "</div>"
            ],
            "text/plain": [
              "   item_id              title\n",
              "0        1   Toy Story (1995)\n",
              "1        2   GoldenEye (1995)\n",
              "2        3  Four Rooms (1995)\n",
              "3        4  Get Shorty (1995)\n",
              "4        5     Copycat (1995)"
            ]
          },
          "metadata": {
            "tags": []
          },
          "execution_count": 4
        }
      ]
    },
    {
      "cell_type": "code",
      "metadata": {
        "id": "x6VAzDUuVP11",
        "colab_type": "code",
        "colab": {}
      },
      "source": [
        "movie_rating =  pd.read_csv('/content/drive/My Drive/recommender_system_dataset/Project 8/u.data',sep='\\t',names = ['user_id' , 'movie_id' , 'rating' , 'timestamp'])"
      ],
      "execution_count": 0,
      "outputs": []
    },
    {
      "cell_type": "code",
      "metadata": {
        "id": "DSy-yHF9V-HV",
        "colab_type": "code",
        "outputId": "80dc585f-b8a6-4445-9e7d-59452d621c75",
        "colab": {
          "base_uri": "https://localhost:8080/",
          "height": 34
        }
      },
      "source": [
        "movie_rating.shape"
      ],
      "execution_count": 6,
      "outputs": [
        {
          "output_type": "execute_result",
          "data": {
            "text/plain": [
              "(100003, 4)"
            ]
          },
          "metadata": {
            "tags": []
          },
          "execution_count": 6
        }
      ]
    },
    {
      "cell_type": "code",
      "metadata": {
        "id": "yPkXuuHvWCBS",
        "colab_type": "code",
        "outputId": "6d7cdb19-65a5-458d-c0a7-e5db72aa26c1",
        "colab": {
          "base_uri": "https://localhost:8080/",
          "height": 204
        }
      },
      "source": [
        "movie_rating.head()"
      ],
      "execution_count": 7,
      "outputs": [
        {
          "output_type": "execute_result",
          "data": {
            "text/html": [
              "<div>\n",
              "<style scoped>\n",
              "    .dataframe tbody tr th:only-of-type {\n",
              "        vertical-align: middle;\n",
              "    }\n",
              "\n",
              "    .dataframe tbody tr th {\n",
              "        vertical-align: top;\n",
              "    }\n",
              "\n",
              "    .dataframe thead th {\n",
              "        text-align: right;\n",
              "    }\n",
              "</style>\n",
              "<table border=\"1\" class=\"dataframe\">\n",
              "  <thead>\n",
              "    <tr style=\"text-align: right;\">\n",
              "      <th></th>\n",
              "      <th>user_id</th>\n",
              "      <th>movie_id</th>\n",
              "      <th>rating</th>\n",
              "      <th>timestamp</th>\n",
              "    </tr>\n",
              "  </thead>\n",
              "  <tbody>\n",
              "    <tr>\n",
              "      <th>0</th>\n",
              "      <td>0</td>\n",
              "      <td>50</td>\n",
              "      <td>5</td>\n",
              "      <td>881250949</td>\n",
              "    </tr>\n",
              "    <tr>\n",
              "      <th>1</th>\n",
              "      <td>0</td>\n",
              "      <td>172</td>\n",
              "      <td>5</td>\n",
              "      <td>881250949</td>\n",
              "    </tr>\n",
              "    <tr>\n",
              "      <th>2</th>\n",
              "      <td>0</td>\n",
              "      <td>133</td>\n",
              "      <td>1</td>\n",
              "      <td>881250949</td>\n",
              "    </tr>\n",
              "    <tr>\n",
              "      <th>3</th>\n",
              "      <td>196</td>\n",
              "      <td>242</td>\n",
              "      <td>3</td>\n",
              "      <td>881250949</td>\n",
              "    </tr>\n",
              "    <tr>\n",
              "      <th>4</th>\n",
              "      <td>186</td>\n",
              "      <td>302</td>\n",
              "      <td>3</td>\n",
              "      <td>891717742</td>\n",
              "    </tr>\n",
              "  </tbody>\n",
              "</table>\n",
              "</div>"
            ],
            "text/plain": [
              "   user_id  movie_id  rating  timestamp\n",
              "0        0        50       5  881250949\n",
              "1        0       172       5  881250949\n",
              "2        0       133       1  881250949\n",
              "3      196       242       3  881250949\n",
              "4      186       302       3  891717742"
            ]
          },
          "metadata": {
            "tags": []
          },
          "execution_count": 7
        }
      ]
    },
    {
      "cell_type": "markdown",
      "metadata": {
        "id": "EUdQwIZNnT78",
        "colab_type": "text"
      },
      "source": [
        "dropping timestamp column\n"
      ]
    },
    {
      "cell_type": "code",
      "metadata": {
        "id": "NwHekR1oWFSf",
        "colab_type": "code",
        "colab": {}
      },
      "source": [
        "movie_rating.drop(['timestamp'],axis=1 , inplace=True)"
      ],
      "execution_count": 0,
      "outputs": []
    },
    {
      "cell_type": "code",
      "metadata": {
        "id": "QtIsFuDVneum",
        "colab_type": "code",
        "outputId": "3f776b8c-ea3e-47e9-ffb7-632af875f487",
        "colab": {
          "base_uri": "https://localhost:8080/",
          "height": 34
        }
      },
      "source": [
        "movie_rating.shape"
      ],
      "execution_count": 9,
      "outputs": [
        {
          "output_type": "execute_result",
          "data": {
            "text/plain": [
              "(100003, 3)"
            ]
          },
          "metadata": {
            "tags": []
          },
          "execution_count": 9
        }
      ]
    },
    {
      "cell_type": "code",
      "metadata": {
        "id": "kxhuPAuunheI",
        "colab_type": "code",
        "outputId": "47499564-4765-4255-dc72-95109de81e4b",
        "colab": {
          "base_uri": "https://localhost:8080/",
          "height": 204
        }
      },
      "source": [
        "movie_rating.head()"
      ],
      "execution_count": 10,
      "outputs": [
        {
          "output_type": "execute_result",
          "data": {
            "text/html": [
              "<div>\n",
              "<style scoped>\n",
              "    .dataframe tbody tr th:only-of-type {\n",
              "        vertical-align: middle;\n",
              "    }\n",
              "\n",
              "    .dataframe tbody tr th {\n",
              "        vertical-align: top;\n",
              "    }\n",
              "\n",
              "    .dataframe thead th {\n",
              "        text-align: right;\n",
              "    }\n",
              "</style>\n",
              "<table border=\"1\" class=\"dataframe\">\n",
              "  <thead>\n",
              "    <tr style=\"text-align: right;\">\n",
              "      <th></th>\n",
              "      <th>user_id</th>\n",
              "      <th>movie_id</th>\n",
              "      <th>rating</th>\n",
              "    </tr>\n",
              "  </thead>\n",
              "  <tbody>\n",
              "    <tr>\n",
              "      <th>0</th>\n",
              "      <td>0</td>\n",
              "      <td>50</td>\n",
              "      <td>5</td>\n",
              "    </tr>\n",
              "    <tr>\n",
              "      <th>1</th>\n",
              "      <td>0</td>\n",
              "      <td>172</td>\n",
              "      <td>5</td>\n",
              "    </tr>\n",
              "    <tr>\n",
              "      <th>2</th>\n",
              "      <td>0</td>\n",
              "      <td>133</td>\n",
              "      <td>1</td>\n",
              "    </tr>\n",
              "    <tr>\n",
              "      <th>3</th>\n",
              "      <td>196</td>\n",
              "      <td>242</td>\n",
              "      <td>3</td>\n",
              "    </tr>\n",
              "    <tr>\n",
              "      <th>4</th>\n",
              "      <td>186</td>\n",
              "      <td>302</td>\n",
              "      <td>3</td>\n",
              "    </tr>\n",
              "  </tbody>\n",
              "</table>\n",
              "</div>"
            ],
            "text/plain": [
              "   user_id  movie_id  rating\n",
              "0        0        50       5\n",
              "1        0       172       5\n",
              "2        0       133       1\n",
              "3      196       242       3\n",
              "4      186       302       3"
            ]
          },
          "metadata": {
            "tags": []
          },
          "execution_count": 10
        }
      ]
    },
    {
      "cell_type": "code",
      "metadata": {
        "id": "4TZCpmk3nmr_",
        "colab_type": "code",
        "outputId": "e3d8ea1f-71da-424f-c9e0-bf4036f22bad",
        "colab": {
          "base_uri": "https://localhost:8080/",
          "height": 297
        }
      },
      "source": [
        "movie_rating.describe()"
      ],
      "execution_count": 11,
      "outputs": [
        {
          "output_type": "execute_result",
          "data": {
            "text/html": [
              "<div>\n",
              "<style scoped>\n",
              "    .dataframe tbody tr th:only-of-type {\n",
              "        vertical-align: middle;\n",
              "    }\n",
              "\n",
              "    .dataframe tbody tr th {\n",
              "        vertical-align: top;\n",
              "    }\n",
              "\n",
              "    .dataframe thead th {\n",
              "        text-align: right;\n",
              "    }\n",
              "</style>\n",
              "<table border=\"1\" class=\"dataframe\">\n",
              "  <thead>\n",
              "    <tr style=\"text-align: right;\">\n",
              "      <th></th>\n",
              "      <th>user_id</th>\n",
              "      <th>movie_id</th>\n",
              "      <th>rating</th>\n",
              "    </tr>\n",
              "  </thead>\n",
              "  <tbody>\n",
              "    <tr>\n",
              "      <th>count</th>\n",
              "      <td>100003.000000</td>\n",
              "      <td>100003.000000</td>\n",
              "      <td>100003.000000</td>\n",
              "    </tr>\n",
              "    <tr>\n",
              "      <th>mean</th>\n",
              "      <td>462.470876</td>\n",
              "      <td>425.520914</td>\n",
              "      <td>3.529864</td>\n",
              "    </tr>\n",
              "    <tr>\n",
              "      <th>std</th>\n",
              "      <td>266.622454</td>\n",
              "      <td>330.797791</td>\n",
              "      <td>1.125704</td>\n",
              "    </tr>\n",
              "    <tr>\n",
              "      <th>min</th>\n",
              "      <td>0.000000</td>\n",
              "      <td>1.000000</td>\n",
              "      <td>1.000000</td>\n",
              "    </tr>\n",
              "    <tr>\n",
              "      <th>25%</th>\n",
              "      <td>254.000000</td>\n",
              "      <td>175.000000</td>\n",
              "      <td>3.000000</td>\n",
              "    </tr>\n",
              "    <tr>\n",
              "      <th>50%</th>\n",
              "      <td>447.000000</td>\n",
              "      <td>322.000000</td>\n",
              "      <td>4.000000</td>\n",
              "    </tr>\n",
              "    <tr>\n",
              "      <th>75%</th>\n",
              "      <td>682.000000</td>\n",
              "      <td>631.000000</td>\n",
              "      <td>4.000000</td>\n",
              "    </tr>\n",
              "    <tr>\n",
              "      <th>max</th>\n",
              "      <td>943.000000</td>\n",
              "      <td>1682.000000</td>\n",
              "      <td>5.000000</td>\n",
              "    </tr>\n",
              "  </tbody>\n",
              "</table>\n",
              "</div>"
            ],
            "text/plain": [
              "             user_id       movie_id         rating\n",
              "count  100003.000000  100003.000000  100003.000000\n",
              "mean      462.470876     425.520914       3.529864\n",
              "std       266.622454     330.797791       1.125704\n",
              "min         0.000000       1.000000       1.000000\n",
              "25%       254.000000     175.000000       3.000000\n",
              "50%       447.000000     322.000000       4.000000\n",
              "75%       682.000000     631.000000       4.000000\n",
              "max       943.000000    1682.000000       5.000000"
            ]
          },
          "metadata": {
            "tags": []
          },
          "execution_count": 11
        }
      ]
    },
    {
      "cell_type": "code",
      "metadata": {
        "id": "V79fKXeIpQJF",
        "colab_type": "code",
        "outputId": "a70c2161-a73b-472a-8fca-df68996914e9",
        "colab": {
          "base_uri": "https://localhost:8080/",
          "height": 153
        }
      },
      "source": [
        "movie_rating.info()"
      ],
      "execution_count": 12,
      "outputs": [
        {
          "output_type": "stream",
          "text": [
            "<class 'pandas.core.frame.DataFrame'>\n",
            "RangeIndex: 100003 entries, 0 to 100002\n",
            "Data columns (total 3 columns):\n",
            "user_id     100003 non-null int64\n",
            "movie_id    100003 non-null int64\n",
            "rating      100003 non-null int64\n",
            "dtypes: int64(3)\n",
            "memory usage: 2.3 MB\n"
          ],
          "name": "stdout"
        }
      ]
    },
    {
      "cell_type": "markdown",
      "metadata": {
        "id": "OMTFMvf0qA8e",
        "colab_type": "text"
      },
      "source": [
        "MERGING THE 2 Datasets "
      ]
    },
    {
      "cell_type": "code",
      "metadata": {
        "id": "ceuGrIgZqL6H",
        "colab_type": "code",
        "colab": {}
      },
      "source": [
        "movie_rating_combined = pd.merge(movie_rating, movie_title_id  , left_on='movie_id' , right_on = 'item_id')"
      ],
      "execution_count": 0,
      "outputs": []
    },
    {
      "cell_type": "code",
      "metadata": {
        "id": "1Nj0eI7CqOHu",
        "colab_type": "code",
        "outputId": "867c01f2-a6eb-4674-b224-49ad9d10d468",
        "colab": {
          "base_uri": "https://localhost:8080/",
          "height": 34
        }
      },
      "source": [
        "movie_rating_combined.shape"
      ],
      "execution_count": 14,
      "outputs": [
        {
          "output_type": "execute_result",
          "data": {
            "text/plain": [
              "(100003, 5)"
            ]
          },
          "metadata": {
            "tags": []
          },
          "execution_count": 14
        }
      ]
    },
    {
      "cell_type": "code",
      "metadata": {
        "id": "jAoiPdT2sa0f",
        "colab_type": "code",
        "outputId": "be69c610-fc0a-46f4-a597-7f05735a8cda",
        "colab": {
          "base_uri": "https://localhost:8080/",
          "height": 204
        }
      },
      "source": [
        "movie_rating_combined.head()"
      ],
      "execution_count": 15,
      "outputs": [
        {
          "output_type": "execute_result",
          "data": {
            "text/html": [
              "<div>\n",
              "<style scoped>\n",
              "    .dataframe tbody tr th:only-of-type {\n",
              "        vertical-align: middle;\n",
              "    }\n",
              "\n",
              "    .dataframe tbody tr th {\n",
              "        vertical-align: top;\n",
              "    }\n",
              "\n",
              "    .dataframe thead th {\n",
              "        text-align: right;\n",
              "    }\n",
              "</style>\n",
              "<table border=\"1\" class=\"dataframe\">\n",
              "  <thead>\n",
              "    <tr style=\"text-align: right;\">\n",
              "      <th></th>\n",
              "      <th>user_id</th>\n",
              "      <th>movie_id</th>\n",
              "      <th>rating</th>\n",
              "      <th>item_id</th>\n",
              "      <th>title</th>\n",
              "    </tr>\n",
              "  </thead>\n",
              "  <tbody>\n",
              "    <tr>\n",
              "      <th>0</th>\n",
              "      <td>0</td>\n",
              "      <td>50</td>\n",
              "      <td>5</td>\n",
              "      <td>50</td>\n",
              "      <td>Star Wars (1977)</td>\n",
              "    </tr>\n",
              "    <tr>\n",
              "      <th>1</th>\n",
              "      <td>290</td>\n",
              "      <td>50</td>\n",
              "      <td>5</td>\n",
              "      <td>50</td>\n",
              "      <td>Star Wars (1977)</td>\n",
              "    </tr>\n",
              "    <tr>\n",
              "      <th>2</th>\n",
              "      <td>79</td>\n",
              "      <td>50</td>\n",
              "      <td>4</td>\n",
              "      <td>50</td>\n",
              "      <td>Star Wars (1977)</td>\n",
              "    </tr>\n",
              "    <tr>\n",
              "      <th>3</th>\n",
              "      <td>2</td>\n",
              "      <td>50</td>\n",
              "      <td>5</td>\n",
              "      <td>50</td>\n",
              "      <td>Star Wars (1977)</td>\n",
              "    </tr>\n",
              "    <tr>\n",
              "      <th>4</th>\n",
              "      <td>8</td>\n",
              "      <td>50</td>\n",
              "      <td>5</td>\n",
              "      <td>50</td>\n",
              "      <td>Star Wars (1977)</td>\n",
              "    </tr>\n",
              "  </tbody>\n",
              "</table>\n",
              "</div>"
            ],
            "text/plain": [
              "   user_id  movie_id  rating  item_id             title\n",
              "0        0        50       5       50  Star Wars (1977)\n",
              "1      290        50       5       50  Star Wars (1977)\n",
              "2       79        50       4       50  Star Wars (1977)\n",
              "3        2        50       5       50  Star Wars (1977)\n",
              "4        8        50       5       50  Star Wars (1977)"
            ]
          },
          "metadata": {
            "tags": []
          },
          "execution_count": 15
        }
      ]
    },
    {
      "cell_type": "code",
      "metadata": {
        "id": "__0h1PibseYD",
        "colab_type": "code",
        "colab": {}
      },
      "source": [
        "movie_rating_combined.drop(['item_id'] , axis= 1, inplace=True)"
      ],
      "execution_count": 0,
      "outputs": []
    },
    {
      "cell_type": "code",
      "metadata": {
        "id": "4w_1JZEwssba",
        "colab_type": "code",
        "outputId": "f7406987-0b28-4f31-e95d-9af8f2e423e5",
        "colab": {
          "base_uri": "https://localhost:8080/",
          "height": 34
        }
      },
      "source": [
        "movie_rating_combined.shape"
      ],
      "execution_count": 17,
      "outputs": [
        {
          "output_type": "execute_result",
          "data": {
            "text/plain": [
              "(100003, 4)"
            ]
          },
          "metadata": {
            "tags": []
          },
          "execution_count": 17
        }
      ]
    },
    {
      "cell_type": "markdown",
      "metadata": {
        "id": "C2cHYdqSNydF",
        "colab_type": "text"
      },
      "source": [
        "# **DATA VISUALIZATION**"
      ]
    },
    {
      "cell_type": "markdown",
      "metadata": {
        "id": "JOQp34UcO4Sl",
        "colab_type": "text"
      },
      "source": [
        "GROUPING the dataset by title of the movies"
      ]
    },
    {
      "cell_type": "code",
      "metadata": {
        "id": "gt3cY0FTtWNG",
        "colab_type": "code",
        "colab": {
          "base_uri": "https://localhost:8080/",
          "height": 719
        },
        "outputId": "4c35fe67-b450-4581-8b80-6defd2fac81a"
      },
      "source": [
        "movie_rating_combined.groupby('title').describe()"
      ],
      "execution_count": 18,
      "outputs": [
        {
          "output_type": "execute_result",
          "data": {
            "text/html": [
              "<div>\n",
              "<style scoped>\n",
              "    .dataframe tbody tr th:only-of-type {\n",
              "        vertical-align: middle;\n",
              "    }\n",
              "\n",
              "    .dataframe tbody tr th {\n",
              "        vertical-align: top;\n",
              "    }\n",
              "\n",
              "    .dataframe thead tr th {\n",
              "        text-align: left;\n",
              "    }\n",
              "\n",
              "    .dataframe thead tr:last-of-type th {\n",
              "        text-align: right;\n",
              "    }\n",
              "</style>\n",
              "<table border=\"1\" class=\"dataframe\">\n",
              "  <thead>\n",
              "    <tr>\n",
              "      <th></th>\n",
              "      <th colspan=\"8\" halign=\"left\">user_id</th>\n",
              "      <th colspan=\"8\" halign=\"left\">movie_id</th>\n",
              "      <th colspan=\"8\" halign=\"left\">rating</th>\n",
              "    </tr>\n",
              "    <tr>\n",
              "      <th></th>\n",
              "      <th>count</th>\n",
              "      <th>mean</th>\n",
              "      <th>std</th>\n",
              "      <th>min</th>\n",
              "      <th>25%</th>\n",
              "      <th>50%</th>\n",
              "      <th>75%</th>\n",
              "      <th>max</th>\n",
              "      <th>count</th>\n",
              "      <th>mean</th>\n",
              "      <th>std</th>\n",
              "      <th>min</th>\n",
              "      <th>25%</th>\n",
              "      <th>50%</th>\n",
              "      <th>75%</th>\n",
              "      <th>max</th>\n",
              "      <th>count</th>\n",
              "      <th>mean</th>\n",
              "      <th>std</th>\n",
              "      <th>min</th>\n",
              "      <th>25%</th>\n",
              "      <th>50%</th>\n",
              "      <th>75%</th>\n",
              "      <th>max</th>\n",
              "    </tr>\n",
              "    <tr>\n",
              "      <th>title</th>\n",
              "      <th></th>\n",
              "      <th></th>\n",
              "      <th></th>\n",
              "      <th></th>\n",
              "      <th></th>\n",
              "      <th></th>\n",
              "      <th></th>\n",
              "      <th></th>\n",
              "      <th></th>\n",
              "      <th></th>\n",
              "      <th></th>\n",
              "      <th></th>\n",
              "      <th></th>\n",
              "      <th></th>\n",
              "      <th></th>\n",
              "      <th></th>\n",
              "      <th></th>\n",
              "      <th></th>\n",
              "      <th></th>\n",
              "      <th></th>\n",
              "      <th></th>\n",
              "      <th></th>\n",
              "      <th></th>\n",
              "      <th></th>\n",
              "    </tr>\n",
              "  </thead>\n",
              "  <tbody>\n",
              "    <tr>\n",
              "      <th>'Til There Was You (1997)</th>\n",
              "      <td>9.0</td>\n",
              "      <td>383.777778</td>\n",
              "      <td>204.272354</td>\n",
              "      <td>152.0</td>\n",
              "      <td>223.0</td>\n",
              "      <td>342.0</td>\n",
              "      <td>530.0</td>\n",
              "      <td>782.0</td>\n",
              "      <td>9.0</td>\n",
              "      <td>1300.0</td>\n",
              "      <td>0.0</td>\n",
              "      <td>1300.0</td>\n",
              "      <td>1300.0</td>\n",
              "      <td>1300.0</td>\n",
              "      <td>1300.0</td>\n",
              "      <td>1300.0</td>\n",
              "      <td>9.0</td>\n",
              "      <td>2.333333</td>\n",
              "      <td>1.000000</td>\n",
              "      <td>1.0</td>\n",
              "      <td>2.00</td>\n",
              "      <td>2.0</td>\n",
              "      <td>3.0</td>\n",
              "      <td>4.0</td>\n",
              "    </tr>\n",
              "    <tr>\n",
              "      <th>1-900 (1994)</th>\n",
              "      <td>5.0</td>\n",
              "      <td>477.000000</td>\n",
              "      <td>244.344020</td>\n",
              "      <td>181.0</td>\n",
              "      <td>385.0</td>\n",
              "      <td>405.0</td>\n",
              "      <td>581.0</td>\n",
              "      <td>833.0</td>\n",
              "      <td>5.0</td>\n",
              "      <td>1353.0</td>\n",
              "      <td>0.0</td>\n",
              "      <td>1353.0</td>\n",
              "      <td>1353.0</td>\n",
              "      <td>1353.0</td>\n",
              "      <td>1353.0</td>\n",
              "      <td>1353.0</td>\n",
              "      <td>5.0</td>\n",
              "      <td>2.600000</td>\n",
              "      <td>1.516575</td>\n",
              "      <td>1.0</td>\n",
              "      <td>1.00</td>\n",
              "      <td>3.0</td>\n",
              "      <td>4.0</td>\n",
              "      <td>4.0</td>\n",
              "    </tr>\n",
              "    <tr>\n",
              "      <th>101 Dalmatians (1996)</th>\n",
              "      <td>109.0</td>\n",
              "      <td>450.330275</td>\n",
              "      <td>295.142779</td>\n",
              "      <td>1.0</td>\n",
              "      <td>183.0</td>\n",
              "      <td>435.0</td>\n",
              "      <td>699.0</td>\n",
              "      <td>938.0</td>\n",
              "      <td>109.0</td>\n",
              "      <td>225.0</td>\n",
              "      <td>0.0</td>\n",
              "      <td>225.0</td>\n",
              "      <td>225.0</td>\n",
              "      <td>225.0</td>\n",
              "      <td>225.0</td>\n",
              "      <td>225.0</td>\n",
              "      <td>109.0</td>\n",
              "      <td>2.908257</td>\n",
              "      <td>1.076184</td>\n",
              "      <td>1.0</td>\n",
              "      <td>2.00</td>\n",
              "      <td>3.0</td>\n",
              "      <td>4.0</td>\n",
              "      <td>5.0</td>\n",
              "    </tr>\n",
              "    <tr>\n",
              "      <th>12 Angry Men (1957)</th>\n",
              "      <td>125.0</td>\n",
              "      <td>453.552000</td>\n",
              "      <td>255.588677</td>\n",
              "      <td>1.0</td>\n",
              "      <td>268.0</td>\n",
              "      <td>429.0</td>\n",
              "      <td>661.0</td>\n",
              "      <td>932.0</td>\n",
              "      <td>125.0</td>\n",
              "      <td>178.0</td>\n",
              "      <td>0.0</td>\n",
              "      <td>178.0</td>\n",
              "      <td>178.0</td>\n",
              "      <td>178.0</td>\n",
              "      <td>178.0</td>\n",
              "      <td>178.0</td>\n",
              "      <td>125.0</td>\n",
              "      <td>4.344000</td>\n",
              "      <td>0.719588</td>\n",
              "      <td>2.0</td>\n",
              "      <td>4.00</td>\n",
              "      <td>4.0</td>\n",
              "      <td>5.0</td>\n",
              "      <td>5.0</td>\n",
              "    </tr>\n",
              "    <tr>\n",
              "      <th>187 (1997)</th>\n",
              "      <td>41.0</td>\n",
              "      <td>517.097561</td>\n",
              "      <td>241.098300</td>\n",
              "      <td>3.0</td>\n",
              "      <td>416.0</td>\n",
              "      <td>532.0</td>\n",
              "      <td>698.0</td>\n",
              "      <td>894.0</td>\n",
              "      <td>41.0</td>\n",
              "      <td>330.0</td>\n",
              "      <td>0.0</td>\n",
              "      <td>330.0</td>\n",
              "      <td>330.0</td>\n",
              "      <td>330.0</td>\n",
              "      <td>330.0</td>\n",
              "      <td>330.0</td>\n",
              "      <td>41.0</td>\n",
              "      <td>3.024390</td>\n",
              "      <td>1.172344</td>\n",
              "      <td>1.0</td>\n",
              "      <td>2.00</td>\n",
              "      <td>3.0</td>\n",
              "      <td>4.0</td>\n",
              "      <td>5.0</td>\n",
              "    </tr>\n",
              "    <tr>\n",
              "      <th>...</th>\n",
              "      <td>...</td>\n",
              "      <td>...</td>\n",
              "      <td>...</td>\n",
              "      <td>...</td>\n",
              "      <td>...</td>\n",
              "      <td>...</td>\n",
              "      <td>...</td>\n",
              "      <td>...</td>\n",
              "      <td>...</td>\n",
              "      <td>...</td>\n",
              "      <td>...</td>\n",
              "      <td>...</td>\n",
              "      <td>...</td>\n",
              "      <td>...</td>\n",
              "      <td>...</td>\n",
              "      <td>...</td>\n",
              "      <td>...</td>\n",
              "      <td>...</td>\n",
              "      <td>...</td>\n",
              "      <td>...</td>\n",
              "      <td>...</td>\n",
              "      <td>...</td>\n",
              "      <td>...</td>\n",
              "      <td>...</td>\n",
              "    </tr>\n",
              "    <tr>\n",
              "      <th>Young Guns II (1990)</th>\n",
              "      <td>44.0</td>\n",
              "      <td>504.068182</td>\n",
              "      <td>254.101371</td>\n",
              "      <td>87.0</td>\n",
              "      <td>301.0</td>\n",
              "      <td>459.0</td>\n",
              "      <td>732.5</td>\n",
              "      <td>943.0</td>\n",
              "      <td>44.0</td>\n",
              "      <td>1188.0</td>\n",
              "      <td>0.0</td>\n",
              "      <td>1188.0</td>\n",
              "      <td>1188.0</td>\n",
              "      <td>1188.0</td>\n",
              "      <td>1188.0</td>\n",
              "      <td>1188.0</td>\n",
              "      <td>44.0</td>\n",
              "      <td>2.772727</td>\n",
              "      <td>1.008421</td>\n",
              "      <td>1.0</td>\n",
              "      <td>2.00</td>\n",
              "      <td>3.0</td>\n",
              "      <td>3.0</td>\n",
              "      <td>5.0</td>\n",
              "    </tr>\n",
              "    <tr>\n",
              "      <th>Young Poisoner's Handbook, The (1995)</th>\n",
              "      <td>41.0</td>\n",
              "      <td>452.487805</td>\n",
              "      <td>286.352241</td>\n",
              "      <td>7.0</td>\n",
              "      <td>246.0</td>\n",
              "      <td>473.0</td>\n",
              "      <td>634.0</td>\n",
              "      <td>936.0</td>\n",
              "      <td>41.0</td>\n",
              "      <td>547.0</td>\n",
              "      <td>0.0</td>\n",
              "      <td>547.0</td>\n",
              "      <td>547.0</td>\n",
              "      <td>547.0</td>\n",
              "      <td>547.0</td>\n",
              "      <td>547.0</td>\n",
              "      <td>41.0</td>\n",
              "      <td>3.341463</td>\n",
              "      <td>1.237129</td>\n",
              "      <td>1.0</td>\n",
              "      <td>3.00</td>\n",
              "      <td>4.0</td>\n",
              "      <td>4.0</td>\n",
              "      <td>5.0</td>\n",
              "    </tr>\n",
              "    <tr>\n",
              "      <th>Zeus and Roxanne (1997)</th>\n",
              "      <td>6.0</td>\n",
              "      <td>532.833333</td>\n",
              "      <td>343.690219</td>\n",
              "      <td>82.0</td>\n",
              "      <td>251.5</td>\n",
              "      <td>627.5</td>\n",
              "      <td>796.5</td>\n",
              "      <td>881.0</td>\n",
              "      <td>6.0</td>\n",
              "      <td>1164.0</td>\n",
              "      <td>0.0</td>\n",
              "      <td>1164.0</td>\n",
              "      <td>1164.0</td>\n",
              "      <td>1164.0</td>\n",
              "      <td>1164.0</td>\n",
              "      <td>1164.0</td>\n",
              "      <td>6.0</td>\n",
              "      <td>2.166667</td>\n",
              "      <td>0.983192</td>\n",
              "      <td>1.0</td>\n",
              "      <td>1.25</td>\n",
              "      <td>2.5</td>\n",
              "      <td>3.0</td>\n",
              "      <td>3.0</td>\n",
              "    </tr>\n",
              "    <tr>\n",
              "      <th>unknown</th>\n",
              "      <td>9.0</td>\n",
              "      <td>311.888889</td>\n",
              "      <td>264.160200</td>\n",
              "      <td>1.0</td>\n",
              "      <td>130.0</td>\n",
              "      <td>297.0</td>\n",
              "      <td>422.0</td>\n",
              "      <td>833.0</td>\n",
              "      <td>9.0</td>\n",
              "      <td>267.0</td>\n",
              "      <td>0.0</td>\n",
              "      <td>267.0</td>\n",
              "      <td>267.0</td>\n",
              "      <td>267.0</td>\n",
              "      <td>267.0</td>\n",
              "      <td>267.0</td>\n",
              "      <td>9.0</td>\n",
              "      <td>3.444444</td>\n",
              "      <td>1.130388</td>\n",
              "      <td>1.0</td>\n",
              "      <td>3.00</td>\n",
              "      <td>4.0</td>\n",
              "      <td>4.0</td>\n",
              "      <td>5.0</td>\n",
              "    </tr>\n",
              "    <tr>\n",
              "      <th>Á köldum klaka (Cold Fever) (1994)</th>\n",
              "      <td>1.0</td>\n",
              "      <td>655.000000</td>\n",
              "      <td>NaN</td>\n",
              "      <td>655.0</td>\n",
              "      <td>655.0</td>\n",
              "      <td>655.0</td>\n",
              "      <td>655.0</td>\n",
              "      <td>655.0</td>\n",
              "      <td>1.0</td>\n",
              "      <td>1633.0</td>\n",
              "      <td>NaN</td>\n",
              "      <td>1633.0</td>\n",
              "      <td>1633.0</td>\n",
              "      <td>1633.0</td>\n",
              "      <td>1633.0</td>\n",
              "      <td>1633.0</td>\n",
              "      <td>1.0</td>\n",
              "      <td>3.000000</td>\n",
              "      <td>NaN</td>\n",
              "      <td>3.0</td>\n",
              "      <td>3.00</td>\n",
              "      <td>3.0</td>\n",
              "      <td>3.0</td>\n",
              "      <td>3.0</td>\n",
              "    </tr>\n",
              "  </tbody>\n",
              "</table>\n",
              "<p>1664 rows × 24 columns</p>\n",
              "</div>"
            ],
            "text/plain": [
              "                                      user_id              ... rating     \n",
              "                                        count        mean  ...    75%  max\n",
              "title                                                      ...            \n",
              "'Til There Was You (1997)                 9.0  383.777778  ...    3.0  4.0\n",
              "1-900 (1994)                              5.0  477.000000  ...    4.0  4.0\n",
              "101 Dalmatians (1996)                   109.0  450.330275  ...    4.0  5.0\n",
              "12 Angry Men (1957)                     125.0  453.552000  ...    5.0  5.0\n",
              "187 (1997)                               41.0  517.097561  ...    4.0  5.0\n",
              "...                                       ...         ...  ...    ...  ...\n",
              "Young Guns II (1990)                     44.0  504.068182  ...    3.0  5.0\n",
              "Young Poisoner's Handbook, The (1995)    41.0  452.487805  ...    4.0  5.0\n",
              "Zeus and Roxanne (1997)                   6.0  532.833333  ...    3.0  3.0\n",
              "unknown                                   9.0  311.888889  ...    4.0  5.0\n",
              "Á köldum klaka (Cold Fever) (1994)        1.0  655.000000  ...    3.0  3.0\n",
              "\n",
              "[1664 rows x 24 columns]"
            ]
          },
          "metadata": {
            "tags": []
          },
          "execution_count": 18
        }
      ]
    },
    {
      "cell_type": "code",
      "metadata": {
        "id": "f_zSXlRnOCxw",
        "colab_type": "code",
        "colab": {
          "base_uri": "https://localhost:8080/",
          "height": 450
        },
        "outputId": "f4585efa-8294-498c-9f20-22182c47b8e9"
      },
      "source": [
        "movie_rating_combined.groupby('title')['rating'].describe()"
      ],
      "execution_count": 19,
      "outputs": [
        {
          "output_type": "execute_result",
          "data": {
            "text/html": [
              "<div>\n",
              "<style scoped>\n",
              "    .dataframe tbody tr th:only-of-type {\n",
              "        vertical-align: middle;\n",
              "    }\n",
              "\n",
              "    .dataframe tbody tr th {\n",
              "        vertical-align: top;\n",
              "    }\n",
              "\n",
              "    .dataframe thead th {\n",
              "        text-align: right;\n",
              "    }\n",
              "</style>\n",
              "<table border=\"1\" class=\"dataframe\">\n",
              "  <thead>\n",
              "    <tr style=\"text-align: right;\">\n",
              "      <th></th>\n",
              "      <th>count</th>\n",
              "      <th>mean</th>\n",
              "      <th>std</th>\n",
              "      <th>min</th>\n",
              "      <th>25%</th>\n",
              "      <th>50%</th>\n",
              "      <th>75%</th>\n",
              "      <th>max</th>\n",
              "    </tr>\n",
              "    <tr>\n",
              "      <th>title</th>\n",
              "      <th></th>\n",
              "      <th></th>\n",
              "      <th></th>\n",
              "      <th></th>\n",
              "      <th></th>\n",
              "      <th></th>\n",
              "      <th></th>\n",
              "      <th></th>\n",
              "    </tr>\n",
              "  </thead>\n",
              "  <tbody>\n",
              "    <tr>\n",
              "      <th>'Til There Was You (1997)</th>\n",
              "      <td>9.0</td>\n",
              "      <td>2.333333</td>\n",
              "      <td>1.000000</td>\n",
              "      <td>1.0</td>\n",
              "      <td>2.00</td>\n",
              "      <td>2.0</td>\n",
              "      <td>3.0</td>\n",
              "      <td>4.0</td>\n",
              "    </tr>\n",
              "    <tr>\n",
              "      <th>1-900 (1994)</th>\n",
              "      <td>5.0</td>\n",
              "      <td>2.600000</td>\n",
              "      <td>1.516575</td>\n",
              "      <td>1.0</td>\n",
              "      <td>1.00</td>\n",
              "      <td>3.0</td>\n",
              "      <td>4.0</td>\n",
              "      <td>4.0</td>\n",
              "    </tr>\n",
              "    <tr>\n",
              "      <th>101 Dalmatians (1996)</th>\n",
              "      <td>109.0</td>\n",
              "      <td>2.908257</td>\n",
              "      <td>1.076184</td>\n",
              "      <td>1.0</td>\n",
              "      <td>2.00</td>\n",
              "      <td>3.0</td>\n",
              "      <td>4.0</td>\n",
              "      <td>5.0</td>\n",
              "    </tr>\n",
              "    <tr>\n",
              "      <th>12 Angry Men (1957)</th>\n",
              "      <td>125.0</td>\n",
              "      <td>4.344000</td>\n",
              "      <td>0.719588</td>\n",
              "      <td>2.0</td>\n",
              "      <td>4.00</td>\n",
              "      <td>4.0</td>\n",
              "      <td>5.0</td>\n",
              "      <td>5.0</td>\n",
              "    </tr>\n",
              "    <tr>\n",
              "      <th>187 (1997)</th>\n",
              "      <td>41.0</td>\n",
              "      <td>3.024390</td>\n",
              "      <td>1.172344</td>\n",
              "      <td>1.0</td>\n",
              "      <td>2.00</td>\n",
              "      <td>3.0</td>\n",
              "      <td>4.0</td>\n",
              "      <td>5.0</td>\n",
              "    </tr>\n",
              "    <tr>\n",
              "      <th>...</th>\n",
              "      <td>...</td>\n",
              "      <td>...</td>\n",
              "      <td>...</td>\n",
              "      <td>...</td>\n",
              "      <td>...</td>\n",
              "      <td>...</td>\n",
              "      <td>...</td>\n",
              "      <td>...</td>\n",
              "    </tr>\n",
              "    <tr>\n",
              "      <th>Young Guns II (1990)</th>\n",
              "      <td>44.0</td>\n",
              "      <td>2.772727</td>\n",
              "      <td>1.008421</td>\n",
              "      <td>1.0</td>\n",
              "      <td>2.00</td>\n",
              "      <td>3.0</td>\n",
              "      <td>3.0</td>\n",
              "      <td>5.0</td>\n",
              "    </tr>\n",
              "    <tr>\n",
              "      <th>Young Poisoner's Handbook, The (1995)</th>\n",
              "      <td>41.0</td>\n",
              "      <td>3.341463</td>\n",
              "      <td>1.237129</td>\n",
              "      <td>1.0</td>\n",
              "      <td>3.00</td>\n",
              "      <td>4.0</td>\n",
              "      <td>4.0</td>\n",
              "      <td>5.0</td>\n",
              "    </tr>\n",
              "    <tr>\n",
              "      <th>Zeus and Roxanne (1997)</th>\n",
              "      <td>6.0</td>\n",
              "      <td>2.166667</td>\n",
              "      <td>0.983192</td>\n",
              "      <td>1.0</td>\n",
              "      <td>1.25</td>\n",
              "      <td>2.5</td>\n",
              "      <td>3.0</td>\n",
              "      <td>3.0</td>\n",
              "    </tr>\n",
              "    <tr>\n",
              "      <th>unknown</th>\n",
              "      <td>9.0</td>\n",
              "      <td>3.444444</td>\n",
              "      <td>1.130388</td>\n",
              "      <td>1.0</td>\n",
              "      <td>3.00</td>\n",
              "      <td>4.0</td>\n",
              "      <td>4.0</td>\n",
              "      <td>5.0</td>\n",
              "    </tr>\n",
              "    <tr>\n",
              "      <th>Á köldum klaka (Cold Fever) (1994)</th>\n",
              "      <td>1.0</td>\n",
              "      <td>3.000000</td>\n",
              "      <td>NaN</td>\n",
              "      <td>3.0</td>\n",
              "      <td>3.00</td>\n",
              "      <td>3.0</td>\n",
              "      <td>3.0</td>\n",
              "      <td>3.0</td>\n",
              "    </tr>\n",
              "  </tbody>\n",
              "</table>\n",
              "<p>1664 rows × 8 columns</p>\n",
              "</div>"
            ],
            "text/plain": [
              "                                       count      mean       std  ...  50%  75%  max\n",
              "title                                                             ...               \n",
              "'Til There Was You (1997)                9.0  2.333333  1.000000  ...  2.0  3.0  4.0\n",
              "1-900 (1994)                             5.0  2.600000  1.516575  ...  3.0  4.0  4.0\n",
              "101 Dalmatians (1996)                  109.0  2.908257  1.076184  ...  3.0  4.0  5.0\n",
              "12 Angry Men (1957)                    125.0  4.344000  0.719588  ...  4.0  5.0  5.0\n",
              "187 (1997)                              41.0  3.024390  1.172344  ...  3.0  4.0  5.0\n",
              "...                                      ...       ...       ...  ...  ...  ...  ...\n",
              "Young Guns II (1990)                    44.0  2.772727  1.008421  ...  3.0  3.0  5.0\n",
              "Young Poisoner's Handbook, The (1995)   41.0  3.341463  1.237129  ...  4.0  4.0  5.0\n",
              "Zeus and Roxanne (1997)                  6.0  2.166667  0.983192  ...  2.5  3.0  3.0\n",
              "unknown                                  9.0  3.444444  1.130388  ...  4.0  4.0  5.0\n",
              "Á köldum klaka (Cold Fever) (1994)       1.0  3.000000       NaN  ...  3.0  3.0  3.0\n",
              "\n",
              "[1664 rows x 8 columns]"
            ]
          },
          "metadata": {
            "tags": []
          },
          "execution_count": 19
        }
      ]
    },
    {
      "cell_type": "markdown",
      "metadata": {
        "id": "tRz6DF9FPZ1s",
        "colab_type": "text"
      },
      "source": [
        "extracting 'mean' and 'count' from above description of dataset"
      ]
    },
    {
      "cell_type": "code",
      "metadata": {
        "id": "saw-x3hzPEzD",
        "colab_type": "code",
        "colab": {}
      },
      "source": [
        "rating_mean_df = movie_rating_combined.groupby('title')['rating'].describe()['mean']"
      ],
      "execution_count": 0,
      "outputs": []
    },
    {
      "cell_type": "code",
      "metadata": {
        "id": "E2QTL018PqKN",
        "colab_type": "code",
        "colab": {}
      },
      "source": [
        "rating_count_df = movie_rating_combined.groupby('title')['rating'].describe()['count']"
      ],
      "execution_count": 0,
      "outputs": []
    },
    {
      "cell_type": "code",
      "metadata": {
        "id": "y-QQ5JKnPurE",
        "colab_type": "code",
        "colab": {
          "base_uri": "https://localhost:8080/",
          "height": 238
        },
        "outputId": "dc0dd1b4-b5c3-4bd1-bdf4-14bd2d93ac8e"
      },
      "source": [
        "#no. of times eacch movei has been rated\n",
        "rating_count_df"
      ],
      "execution_count": 22,
      "outputs": [
        {
          "output_type": "execute_result",
          "data": {
            "text/plain": [
              "title\n",
              "'Til There Was You (1997)                  9.0\n",
              "1-900 (1994)                               5.0\n",
              "101 Dalmatians (1996)                    109.0\n",
              "12 Angry Men (1957)                      125.0\n",
              "187 (1997)                                41.0\n",
              "                                         ...  \n",
              "Young Guns II (1990)                      44.0\n",
              "Young Poisoner's Handbook, The (1995)     41.0\n",
              "Zeus and Roxanne (1997)                    6.0\n",
              "unknown                                    9.0\n",
              "Á köldum klaka (Cold Fever) (1994)         1.0\n",
              "Name: count, Length: 1664, dtype: float64"
            ]
          },
          "metadata": {
            "tags": []
          },
          "execution_count": 22
        }
      ]
    },
    {
      "cell_type": "code",
      "metadata": {
        "id": "StnAGhZFPyMr",
        "colab_type": "code",
        "colab": {
          "base_uri": "https://localhost:8080/",
          "height": 238
        },
        "outputId": "f365ca09-4215-477e-d8ec-69ebf01a1d65"
      },
      "source": [
        "#mean rating of every movie\n",
        "rating_mean_df"
      ],
      "execution_count": 23,
      "outputs": [
        {
          "output_type": "execute_result",
          "data": {
            "text/plain": [
              "title\n",
              "'Til There Was You (1997)                2.333333\n",
              "1-900 (1994)                             2.600000\n",
              "101 Dalmatians (1996)                    2.908257\n",
              "12 Angry Men (1957)                      4.344000\n",
              "187 (1997)                               3.024390\n",
              "                                           ...   \n",
              "Young Guns II (1990)                     2.772727\n",
              "Young Poisoner's Handbook, The (1995)    3.341463\n",
              "Zeus and Roxanne (1997)                  2.166667\n",
              "unknown                                  3.444444\n",
              "Á köldum klaka (Cold Fever) (1994)       3.000000\n",
              "Name: mean, Length: 1664, dtype: float64"
            ]
          },
          "metadata": {
            "tags": []
          },
          "execution_count": 23
        }
      ]
    },
    {
      "cell_type": "markdown",
      "metadata": {
        "id": "n7EG9AR7kVky",
        "colab_type": "text"
      },
      "source": [
        "Merging the 2 datsets of mean and count of each movie"
      ]
    },
    {
      "cell_type": "code",
      "metadata": {
        "id": "LcoC66jrP86O",
        "colab_type": "code",
        "colab": {}
      },
      "source": [
        "rating_mean_count_combined = pd.merge(rating_mean_df , rating_count_df , on='title')"
      ],
      "execution_count": 0,
      "outputs": []
    },
    {
      "cell_type": "code",
      "metadata": {
        "id": "sgovJ23ektzu",
        "colab_type": "code",
        "colab": {
          "base_uri": "https://localhost:8080/",
          "height": 450
        },
        "outputId": "1dab9ad9-e303-4cf5-b1fb-78ed6176b689"
      },
      "source": [
        "rating_mean_count_combined"
      ],
      "execution_count": 25,
      "outputs": [
        {
          "output_type": "execute_result",
          "data": {
            "text/html": [
              "<div>\n",
              "<style scoped>\n",
              "    .dataframe tbody tr th:only-of-type {\n",
              "        vertical-align: middle;\n",
              "    }\n",
              "\n",
              "    .dataframe tbody tr th {\n",
              "        vertical-align: top;\n",
              "    }\n",
              "\n",
              "    .dataframe thead th {\n",
              "        text-align: right;\n",
              "    }\n",
              "</style>\n",
              "<table border=\"1\" class=\"dataframe\">\n",
              "  <thead>\n",
              "    <tr style=\"text-align: right;\">\n",
              "      <th></th>\n",
              "      <th>mean</th>\n",
              "      <th>count</th>\n",
              "    </tr>\n",
              "    <tr>\n",
              "      <th>title</th>\n",
              "      <th></th>\n",
              "      <th></th>\n",
              "    </tr>\n",
              "  </thead>\n",
              "  <tbody>\n",
              "    <tr>\n",
              "      <th>'Til There Was You (1997)</th>\n",
              "      <td>2.333333</td>\n",
              "      <td>9.0</td>\n",
              "    </tr>\n",
              "    <tr>\n",
              "      <th>1-900 (1994)</th>\n",
              "      <td>2.600000</td>\n",
              "      <td>5.0</td>\n",
              "    </tr>\n",
              "    <tr>\n",
              "      <th>101 Dalmatians (1996)</th>\n",
              "      <td>2.908257</td>\n",
              "      <td>109.0</td>\n",
              "    </tr>\n",
              "    <tr>\n",
              "      <th>12 Angry Men (1957)</th>\n",
              "      <td>4.344000</td>\n",
              "      <td>125.0</td>\n",
              "    </tr>\n",
              "    <tr>\n",
              "      <th>187 (1997)</th>\n",
              "      <td>3.024390</td>\n",
              "      <td>41.0</td>\n",
              "    </tr>\n",
              "    <tr>\n",
              "      <th>...</th>\n",
              "      <td>...</td>\n",
              "      <td>...</td>\n",
              "    </tr>\n",
              "    <tr>\n",
              "      <th>Young Guns II (1990)</th>\n",
              "      <td>2.772727</td>\n",
              "      <td>44.0</td>\n",
              "    </tr>\n",
              "    <tr>\n",
              "      <th>Young Poisoner's Handbook, The (1995)</th>\n",
              "      <td>3.341463</td>\n",
              "      <td>41.0</td>\n",
              "    </tr>\n",
              "    <tr>\n",
              "      <th>Zeus and Roxanne (1997)</th>\n",
              "      <td>2.166667</td>\n",
              "      <td>6.0</td>\n",
              "    </tr>\n",
              "    <tr>\n",
              "      <th>unknown</th>\n",
              "      <td>3.444444</td>\n",
              "      <td>9.0</td>\n",
              "    </tr>\n",
              "    <tr>\n",
              "      <th>Á köldum klaka (Cold Fever) (1994)</th>\n",
              "      <td>3.000000</td>\n",
              "      <td>1.0</td>\n",
              "    </tr>\n",
              "  </tbody>\n",
              "</table>\n",
              "<p>1664 rows × 2 columns</p>\n",
              "</div>"
            ],
            "text/plain": [
              "                                           mean  count\n",
              "title                                                 \n",
              "'Til There Was You (1997)              2.333333    9.0\n",
              "1-900 (1994)                           2.600000    5.0\n",
              "101 Dalmatians (1996)                  2.908257  109.0\n",
              "12 Angry Men (1957)                    4.344000  125.0\n",
              "187 (1997)                             3.024390   41.0\n",
              "...                                         ...    ...\n",
              "Young Guns II (1990)                   2.772727   44.0\n",
              "Young Poisoner's Handbook, The (1995)  3.341463   41.0\n",
              "Zeus and Roxanne (1997)                2.166667    6.0\n",
              "unknown                                3.444444    9.0\n",
              "Á köldum klaka (Cold Fever) (1994)     3.000000    1.0\n",
              "\n",
              "[1664 rows x 2 columns]"
            ]
          },
          "metadata": {
            "tags": []
          },
          "execution_count": 25
        }
      ]
    },
    {
      "cell_type": "code",
      "metadata": {
        "id": "uv0R8XJnkw4f",
        "colab_type": "code",
        "colab": {
          "base_uri": "https://localhost:8080/",
          "height": 419
        },
        "outputId": "23ec639c-064a-4542-c3b0-5e8d59a19f38"
      },
      "source": [
        "rating_mean_count_combined.reset_index()"
      ],
      "execution_count": 26,
      "outputs": [
        {
          "output_type": "execute_result",
          "data": {
            "text/html": [
              "<div>\n",
              "<style scoped>\n",
              "    .dataframe tbody tr th:only-of-type {\n",
              "        vertical-align: middle;\n",
              "    }\n",
              "\n",
              "    .dataframe tbody tr th {\n",
              "        vertical-align: top;\n",
              "    }\n",
              "\n",
              "    .dataframe thead th {\n",
              "        text-align: right;\n",
              "    }\n",
              "</style>\n",
              "<table border=\"1\" class=\"dataframe\">\n",
              "  <thead>\n",
              "    <tr style=\"text-align: right;\">\n",
              "      <th></th>\n",
              "      <th>title</th>\n",
              "      <th>mean</th>\n",
              "      <th>count</th>\n",
              "    </tr>\n",
              "  </thead>\n",
              "  <tbody>\n",
              "    <tr>\n",
              "      <th>0</th>\n",
              "      <td>'Til There Was You (1997)</td>\n",
              "      <td>2.333333</td>\n",
              "      <td>9.0</td>\n",
              "    </tr>\n",
              "    <tr>\n",
              "      <th>1</th>\n",
              "      <td>1-900 (1994)</td>\n",
              "      <td>2.600000</td>\n",
              "      <td>5.0</td>\n",
              "    </tr>\n",
              "    <tr>\n",
              "      <th>2</th>\n",
              "      <td>101 Dalmatians (1996)</td>\n",
              "      <td>2.908257</td>\n",
              "      <td>109.0</td>\n",
              "    </tr>\n",
              "    <tr>\n",
              "      <th>3</th>\n",
              "      <td>12 Angry Men (1957)</td>\n",
              "      <td>4.344000</td>\n",
              "      <td>125.0</td>\n",
              "    </tr>\n",
              "    <tr>\n",
              "      <th>4</th>\n",
              "      <td>187 (1997)</td>\n",
              "      <td>3.024390</td>\n",
              "      <td>41.0</td>\n",
              "    </tr>\n",
              "    <tr>\n",
              "      <th>...</th>\n",
              "      <td>...</td>\n",
              "      <td>...</td>\n",
              "      <td>...</td>\n",
              "    </tr>\n",
              "    <tr>\n",
              "      <th>1659</th>\n",
              "      <td>Young Guns II (1990)</td>\n",
              "      <td>2.772727</td>\n",
              "      <td>44.0</td>\n",
              "    </tr>\n",
              "    <tr>\n",
              "      <th>1660</th>\n",
              "      <td>Young Poisoner's Handbook, The (1995)</td>\n",
              "      <td>3.341463</td>\n",
              "      <td>41.0</td>\n",
              "    </tr>\n",
              "    <tr>\n",
              "      <th>1661</th>\n",
              "      <td>Zeus and Roxanne (1997)</td>\n",
              "      <td>2.166667</td>\n",
              "      <td>6.0</td>\n",
              "    </tr>\n",
              "    <tr>\n",
              "      <th>1662</th>\n",
              "      <td>unknown</td>\n",
              "      <td>3.444444</td>\n",
              "      <td>9.0</td>\n",
              "    </tr>\n",
              "    <tr>\n",
              "      <th>1663</th>\n",
              "      <td>Á köldum klaka (Cold Fever) (1994)</td>\n",
              "      <td>3.000000</td>\n",
              "      <td>1.0</td>\n",
              "    </tr>\n",
              "  </tbody>\n",
              "</table>\n",
              "<p>1664 rows × 3 columns</p>\n",
              "</div>"
            ],
            "text/plain": [
              "                                      title      mean  count\n",
              "0                 'Til There Was You (1997)  2.333333    9.0\n",
              "1                              1-900 (1994)  2.600000    5.0\n",
              "2                     101 Dalmatians (1996)  2.908257  109.0\n",
              "3                       12 Angry Men (1957)  4.344000  125.0\n",
              "4                                187 (1997)  3.024390   41.0\n",
              "...                                     ...       ...    ...\n",
              "1659                   Young Guns II (1990)  2.772727   44.0\n",
              "1660  Young Poisoner's Handbook, The (1995)  3.341463   41.0\n",
              "1661                Zeus and Roxanne (1997)  2.166667    6.0\n",
              "1662                                unknown  3.444444    9.0\n",
              "1663     Á köldum klaka (Cold Fever) (1994)  3.000000    1.0\n",
              "\n",
              "[1664 rows x 3 columns]"
            ]
          },
          "metadata": {
            "tags": []
          },
          "execution_count": 26
        }
      ]
    },
    {
      "cell_type": "markdown",
      "metadata": {
        "id": "OuKx4O1Xl91x",
        "colab_type": "text"
      },
      "source": [
        "plotting histograms for mean and count columns"
      ]
    },
    {
      "cell_type": "code",
      "metadata": {
        "id": "8UfvjhVTlddS",
        "colab_type": "code",
        "colab": {
          "base_uri": "https://localhost:8080/",
          "height": 265
        },
        "outputId": "6552121e-ae82-4f3d-8b97-d8887d0c70de"
      },
      "source": [
        "rating_mean_count_combined['mean'].plot(bins=100 , kind='hist' ,color='r')\n",
        "plt.show()"
      ],
      "execution_count": 30,
      "outputs": [
        {
          "output_type": "display_data",
          "data": {
            "image/png": "[encoded data removed]",
            "text/plain": [
              "<Figure size 432x288 with 1 Axes>"
            ]
          },
          "metadata": {
            "tags": []
          }
        }
      ]
    },
    {
      "cell_type": "code",
      "metadata": {
        "id": "BUnqU6jhll7C",
        "colab_type": "code",
        "colab": {
          "base_uri": "https://localhost:8080/",
          "height": 282
        },
        "outputId": "22e833e1-24c2-4830-b12d-299e3c01376d"
      },
      "source": [
        "rating_mean_count_combined['count'].plot(bins=10 , kind = 'hist' , color = 'r')"
      ],
      "execution_count": 32,
      "outputs": [
        {
          "output_type": "execute_result",
          "data": {
            "text/plain": [
              "<matplotlib.axes._subplots.AxesSubplot at 0x7ffa02bc6c88>"
            ]
          },
          "metadata": {
            "tags": []
          },
          "execution_count": 32
        },
        {
          "output_type": "display_data",
          "data": {
            "image/png": "[encoded data removed]",
            "text/plain": [
              "<Figure size 432x288 with 1 Axes>"
            ]
          },
          "metadata": {
            "tags": []
          }
        }
      ]
    },
    {
      "cell_type": "markdown",
      "metadata": {
        "id": "Xhu5OYmXoCIU",
        "colab_type": "text"
      },
      "source": [
        "getting movies with mean=5"
      ]
    },
    {
      "cell_type": "code",
      "metadata": {
        "id": "Yl-yuDfDmMG_",
        "colab_type": "code",
        "colab": {
          "base_uri": "https://localhost:8080/",
          "height": 390
        },
        "outputId": "8ba7ca6f-73ae-4d2d-dd79-961d4e067790"
      },
      "source": [
        "rating_mean_count_combined[rating_mean_count_combined['mean'] == 5]"
      ],
      "execution_count": 43,
      "outputs": [
        {
          "output_type": "execute_result",
          "data": {
            "text/html": [
              "<div>\n",
              "<style scoped>\n",
              "    .dataframe tbody tr th:only-of-type {\n",
              "        vertical-align: middle;\n",
              "    }\n",
              "\n",
              "    .dataframe tbody tr th {\n",
              "        vertical-align: top;\n",
              "    }\n",
              "\n",
              "    .dataframe thead th {\n",
              "        text-align: right;\n",
              "    }\n",
              "</style>\n",
              "<table border=\"1\" class=\"dataframe\">\n",
              "  <thead>\n",
              "    <tr style=\"text-align: right;\">\n",
              "      <th></th>\n",
              "      <th>mean</th>\n",
              "      <th>count</th>\n",
              "    </tr>\n",
              "    <tr>\n",
              "      <th>title</th>\n",
              "      <th></th>\n",
              "      <th></th>\n",
              "    </tr>\n",
              "  </thead>\n",
              "  <tbody>\n",
              "    <tr>\n",
              "      <th>Aiqing wansui (1994)</th>\n",
              "      <td>5.0</td>\n",
              "      <td>1.0</td>\n",
              "    </tr>\n",
              "    <tr>\n",
              "      <th>Entertaining Angels: The Dorothy Day Story (1996)</th>\n",
              "      <td>5.0</td>\n",
              "      <td>1.0</td>\n",
              "    </tr>\n",
              "    <tr>\n",
              "      <th>Great Day in Harlem, A (1994)</th>\n",
              "      <td>5.0</td>\n",
              "      <td>1.0</td>\n",
              "    </tr>\n",
              "    <tr>\n",
              "      <th>Marlene Dietrich: Shadow and Light (1996)</th>\n",
              "      <td>5.0</td>\n",
              "      <td>1.0</td>\n",
              "    </tr>\n",
              "    <tr>\n",
              "      <th>Prefontaine (1997)</th>\n",
              "      <td>5.0</td>\n",
              "      <td>3.0</td>\n",
              "    </tr>\n",
              "    <tr>\n",
              "      <th>Saint of Fort Washington, The (1993)</th>\n",
              "      <td>5.0</td>\n",
              "      <td>2.0</td>\n",
              "    </tr>\n",
              "    <tr>\n",
              "      <th>Santa with Muscles (1996)</th>\n",
              "      <td>5.0</td>\n",
              "      <td>2.0</td>\n",
              "    </tr>\n",
              "    <tr>\n",
              "      <th>Someone Else's America (1995)</th>\n",
              "      <td>5.0</td>\n",
              "      <td>1.0</td>\n",
              "    </tr>\n",
              "    <tr>\n",
              "      <th>Star Kid (1997)</th>\n",
              "      <td>5.0</td>\n",
              "      <td>3.0</td>\n",
              "    </tr>\n",
              "    <tr>\n",
              "      <th>They Made Me a Criminal (1939)</th>\n",
              "      <td>5.0</td>\n",
              "      <td>1.0</td>\n",
              "    </tr>\n",
              "  </tbody>\n",
              "</table>\n",
              "</div>"
            ],
            "text/plain": [
              "                                                   mean  count\n",
              "title                                                         \n",
              "Aiqing wansui (1994)                                5.0    1.0\n",
              "Entertaining Angels: The Dorothy Day Story (1996)   5.0    1.0\n",
              "Great Day in Harlem, A (1994)                       5.0    1.0\n",
              "Marlene Dietrich: Shadow and Light (1996)           5.0    1.0\n",
              "Prefontaine (1997)                                  5.0    3.0\n",
              "Saint of Fort Washington, The (1993)                5.0    2.0\n",
              "Santa with Muscles (1996)                           5.0    2.0\n",
              "Someone Else's America (1995)                       5.0    1.0\n",
              "Star Kid (1997)                                     5.0    3.0\n",
              "They Made Me a Criminal (1939)                      5.0    1.0"
            ]
          },
          "metadata": {
            "tags": []
          },
          "execution_count": 43
        }
      ]
    },
    {
      "cell_type": "markdown",
      "metadata": {
        "id": "YLBei37gojeI",
        "colab_type": "text"
      },
      "source": [
        "getting most reviewed movies by sorting the dataset"
      ]
    },
    {
      "cell_type": "code",
      "metadata": {
        "id": "Q96y6176mlua",
        "colab_type": "code",
        "colab": {
          "base_uri": "https://localhost:8080/",
          "height": 450
        },
        "outputId": "f181b2e7-62ac-4822-9db7-5badd4ca03cf"
      },
      "source": [
        "rating_mean_count_combined.sort_values('count' , ascending = False).head(100)"
      ],
      "execution_count": 46,
      "outputs": [
        {
          "output_type": "execute_result",
          "data": {
            "text/html": [
              "<div>\n",
              "<style scoped>\n",
              "    .dataframe tbody tr th:only-of-type {\n",
              "        vertical-align: middle;\n",
              "    }\n",
              "\n",
              "    .dataframe tbody tr th {\n",
              "        vertical-align: top;\n",
              "    }\n",
              "\n",
              "    .dataframe thead th {\n",
              "        text-align: right;\n",
              "    }\n",
              "</style>\n",
              "<table border=\"1\" class=\"dataframe\">\n",
              "  <thead>\n",
              "    <tr style=\"text-align: right;\">\n",
              "      <th></th>\n",
              "      <th>mean</th>\n",
              "      <th>count</th>\n",
              "    </tr>\n",
              "    <tr>\n",
              "      <th>title</th>\n",
              "      <th></th>\n",
              "      <th></th>\n",
              "    </tr>\n",
              "  </thead>\n",
              "  <tbody>\n",
              "    <tr>\n",
              "      <th>Star Wars (1977)</th>\n",
              "      <td>4.359589</td>\n",
              "      <td>584.0</td>\n",
              "    </tr>\n",
              "    <tr>\n",
              "      <th>Contact (1997)</th>\n",
              "      <td>3.803536</td>\n",
              "      <td>509.0</td>\n",
              "    </tr>\n",
              "    <tr>\n",
              "      <th>Fargo (1996)</th>\n",
              "      <td>4.155512</td>\n",
              "      <td>508.0</td>\n",
              "    </tr>\n",
              "    <tr>\n",
              "      <th>Return of the Jedi (1983)</th>\n",
              "      <td>4.007890</td>\n",
              "      <td>507.0</td>\n",
              "    </tr>\n",
              "    <tr>\n",
              "      <th>Liar Liar (1997)</th>\n",
              "      <td>3.156701</td>\n",
              "      <td>485.0</td>\n",
              "    </tr>\n",
              "    <tr>\n",
              "      <th>...</th>\n",
              "      <td>...</td>\n",
              "      <td>...</td>\n",
              "    </tr>\n",
              "    <tr>\n",
              "      <th>Aladdin (1992)</th>\n",
              "      <td>3.812785</td>\n",
              "      <td>219.0</td>\n",
              "    </tr>\n",
              "    <tr>\n",
              "      <th>Babe (1995)</th>\n",
              "      <td>3.995434</td>\n",
              "      <td>219.0</td>\n",
              "    </tr>\n",
              "    <tr>\n",
              "      <th>Volcano (1997)</th>\n",
              "      <td>2.808219</td>\n",
              "      <td>219.0</td>\n",
              "    </tr>\n",
              "    <tr>\n",
              "      <th>To Kill a Mockingbird (1962)</th>\n",
              "      <td>4.292237</td>\n",
              "      <td>219.0</td>\n",
              "    </tr>\n",
              "    <tr>\n",
              "      <th>Murder at 1600 (1997)</th>\n",
              "      <td>3.087156</td>\n",
              "      <td>218.0</td>\n",
              "    </tr>\n",
              "  </tbody>\n",
              "</table>\n",
              "<p>100 rows × 2 columns</p>\n",
              "</div>"
            ],
            "text/plain": [
              "                                  mean  count\n",
              "title                                        \n",
              "Star Wars (1977)              4.359589  584.0\n",
              "Contact (1997)                3.803536  509.0\n",
              "Fargo (1996)                  4.155512  508.0\n",
              "Return of the Jedi (1983)     4.007890  507.0\n",
              "Liar Liar (1997)              3.156701  485.0\n",
              "...                                ...    ...\n",
              "Aladdin (1992)                3.812785  219.0\n",
              "Babe (1995)                   3.995434  219.0\n",
              "Volcano (1997)                2.808219  219.0\n",
              "To Kill a Mockingbird (1962)  4.292237  219.0\n",
              "Murder at 1600 (1997)         3.087156  218.0\n",
              "\n",
              "[100 rows x 2 columns]"
            ]
          },
          "metadata": {
            "tags": []
          },
          "execution_count": 46
        }
      ]
    },
    {
      "cell_type": "code",
      "metadata": {
        "id": "ZlenlCkLoTpI",
        "colab_type": "code",
        "colab": {}
      },
      "source": [
        ""
      ],
      "execution_count": 0,
      "outputs": []
    }
  ]
}